{
 "cells": [
  {
   "cell_type": "markdown",
   "metadata": {},
   "source": [
    "## Intro\n",
    "\n",
    "Managers typically oversee revenue prediction, albeit without a standardized methodology. Instead, a variety of approaches are employed, including client relations, job knowledge, intuition, and other factors. Despite the potential inaccuracy, revenue estimation remains crucial for effective long-term planning."
   ]
  },
  {
   "cell_type": "markdown",
   "metadata": {},
   "source": [
    "### Objectives\n",
    "\n",
    "The model seeks to achieve the following objectives:\n",
    "* Take in 1 year worth of data, create training data and testing data, with a 80/20 split\n",
    "* Use the training data to train the model\n",
    "* Perform grid search to finetune the hyperparameters\n",
    "* Test the model's ability to predict by testing it with the testing data\n",
    "* Obtain a baseline MAE (Mean Absolute Error)"
   ]
  },
  {
   "cell_type": "markdown",
   "metadata": {},
   "source": [
    "### Data collection\n",
    "The data used for this prototype is the 2022 revenue data for client code 9e2e.\n",
    "\n",
    "The report shows 3 monthly projects for every month of the year:\n",
    "* Marketing\n",
    "* Non Marketing\n",
    "* Training\n",
    "\n",
    "However, the project for Training was not included in the report for the months November and December. Further investigation showed that this is possibly due to:\n",
    "* \"Due date\" for Training November 2022 was set for 20/01/2023\n",
    "* \"Due date\" for Training December 2022 was set for 31/01/2023\n",
    "\n",
    "The reason is currently unknown, most likely due to human error. This human error is nevertheless useful to the design of this model, since it suggests that some \"checking\" mechanism should be included in the code to verify that the raw data is complete."
   ]
  },
  {
   "cell_type": "code",
   "execution_count": 1,
   "metadata": {},
   "outputs": [],
   "source": [
    "import numpy as np\n",
    "import pandas as pd\n",
    "import tensorflow as tf\n",
    "import matplotlib.pyplot as plt"
   ]
  },
  {
   "cell_type": "code",
   "execution_count": 2,
   "metadata": {},
   "outputs": [],
   "source": [
    "# Read in the csv created from data from company database\n",
    "revenue_2022 = pd.read_csv(\"data\\9e2e_2022_raw.csv\", header=None)"
   ]
  },
  {
   "cell_type": "code",
   "execution_count": 3,
   "metadata": {},
   "outputs": [
    {
     "data": {
      "text/html": [
       "<div>\n",
       "<style scoped>\n",
       "    .dataframe tbody tr th:only-of-type {\n",
       "        vertical-align: middle;\n",
       "    }\n",
       "\n",
       "    .dataframe tbody tr th {\n",
       "        vertical-align: top;\n",
       "    }\n",
       "\n",
       "    .dataframe thead th {\n",
       "        text-align: right;\n",
       "    }\n",
       "</style>\n",
       "<table border=\"1\" class=\"dataframe\">\n",
       "  <thead>\n",
       "    <tr style=\"text-align: right;\">\n",
       "      <th></th>\n",
       "      <th>Job Name</th>\n",
       "      <th>Revenue</th>\n",
       "    </tr>\n",
       "  </thead>\n",
       "  <tbody>\n",
       "    <tr>\n",
       "      <th>0</th>\n",
       "      <td>Marketing January 2022</td>\n",
       "      <td>40392.17</td>\n",
       "    </tr>\n",
       "    <tr>\n",
       "      <th>1</th>\n",
       "      <td>Non Marketing January 2022</td>\n",
       "      <td>3817.23</td>\n",
       "    </tr>\n",
       "    <tr>\n",
       "      <th>2</th>\n",
       "      <td>Training January 2022</td>\n",
       "      <td>12602.79</td>\n",
       "    </tr>\n",
       "    <tr>\n",
       "      <th>3</th>\n",
       "      <td>Marketing February 2022</td>\n",
       "      <td>50372.08</td>\n",
       "    </tr>\n",
       "    <tr>\n",
       "      <th>4</th>\n",
       "      <td>Non Marketing February 2022</td>\n",
       "      <td>13454.27</td>\n",
       "    </tr>\n",
       "  </tbody>\n",
       "</table>\n",
       "</div>"
      ],
      "text/plain": [
       "                      Job Name   Revenue\n",
       "0       Marketing January 2022  40392.17\n",
       "1   Non Marketing January 2022   3817.23\n",
       "2        Training January 2022  12602.79\n",
       "3      Marketing February 2022  50372.08\n",
       "4  Non Marketing February 2022  13454.27"
      ]
     },
     "execution_count": 3,
     "metadata": {},
     "output_type": "execute_result"
    }
   ],
   "source": [
    "# Create a new DataFram called prepped_df, which strips away all the data except for the Job Name and the Revenue\n",
    "prepped_df = revenue_2022[revenue_2022.columns[5:7]]\n",
    "prepped_df = prepped_df.drop(prepped_df.index[-2:])\n",
    "prepped_df.columns=[\"Job Name\", \"Revenue\"]\n",
    "prepped_df.head()"
   ]
  },
  {
   "cell_type": "code",
   "execution_count": 4,
   "metadata": {},
   "outputs": [
    {
     "name": "stderr",
     "output_type": "stream",
     "text": [
      "C:\\Users\\kchang\\AppData\\Local\\Temp\\ipykernel_16212\\17105585.py:21: FutureWarning: Calling float on a single element Series is deprecated and will raise a TypeError in the future. Use float(ser.iloc[0]) instead\n",
      "  final_data.loc[final_data[\"Month\"] == month, \"Revenue\"] += float(prepped_df.loc[prepped_df[\"Job Name\"] == job_name, \"Revenue\"])\n",
      "C:\\Users\\kchang\\AppData\\Local\\Temp\\ipykernel_16212\\17105585.py:21: FutureWarning: Setting an item of incompatible dtype is deprecated and will raise an error in a future version of pandas. Value '[40392.17]' has dtype incompatible with int64, please explicitly cast to a compatible dtype first.\n",
      "  final_data.loc[final_data[\"Month\"] == month, \"Revenue\"] += float(prepped_df.loc[prepped_df[\"Job Name\"] == job_name, \"Revenue\"])\n",
      "C:\\Users\\kchang\\AppData\\Local\\Temp\\ipykernel_16212\\17105585.py:21: FutureWarning: Calling float on a single element Series is deprecated and will raise a TypeError in the future. Use float(ser.iloc[0]) instead\n",
      "  final_data.loc[final_data[\"Month\"] == month, \"Revenue\"] += float(prepped_df.loc[prepped_df[\"Job Name\"] == job_name, \"Revenue\"])\n",
      "C:\\Users\\kchang\\AppData\\Local\\Temp\\ipykernel_16212\\17105585.py:21: FutureWarning: Calling float on a single element Series is deprecated and will raise a TypeError in the future. Use float(ser.iloc[0]) instead\n",
      "  final_data.loc[final_data[\"Month\"] == month, \"Revenue\"] += float(prepped_df.loc[prepped_df[\"Job Name\"] == job_name, \"Revenue\"])\n",
      "C:\\Users\\kchang\\AppData\\Local\\Temp\\ipykernel_16212\\17105585.py:21: FutureWarning: Calling float on a single element Series is deprecated and will raise a TypeError in the future. Use float(ser.iloc[0]) instead\n",
      "  final_data.loc[final_data[\"Month\"] == month, \"Revenue\"] += float(prepped_df.loc[prepped_df[\"Job Name\"] == job_name, \"Revenue\"])\n",
      "C:\\Users\\kchang\\AppData\\Local\\Temp\\ipykernel_16212\\17105585.py:21: FutureWarning: Calling float on a single element Series is deprecated and will raise a TypeError in the future. Use float(ser.iloc[0]) instead\n",
      "  final_data.loc[final_data[\"Month\"] == month, \"Revenue\"] += float(prepped_df.loc[prepped_df[\"Job Name\"] == job_name, \"Revenue\"])\n",
      "C:\\Users\\kchang\\AppData\\Local\\Temp\\ipykernel_16212\\17105585.py:21: FutureWarning: Calling float on a single element Series is deprecated and will raise a TypeError in the future. Use float(ser.iloc[0]) instead\n",
      "  final_data.loc[final_data[\"Month\"] == month, \"Revenue\"] += float(prepped_df.loc[prepped_df[\"Job Name\"] == job_name, \"Revenue\"])\n",
      "C:\\Users\\kchang\\AppData\\Local\\Temp\\ipykernel_16212\\17105585.py:21: FutureWarning: Calling float on a single element Series is deprecated and will raise a TypeError in the future. Use float(ser.iloc[0]) instead\n",
      "  final_data.loc[final_data[\"Month\"] == month, \"Revenue\"] += float(prepped_df.loc[prepped_df[\"Job Name\"] == job_name, \"Revenue\"])\n",
      "C:\\Users\\kchang\\AppData\\Local\\Temp\\ipykernel_16212\\17105585.py:21: FutureWarning: Calling float on a single element Series is deprecated and will raise a TypeError in the future. Use float(ser.iloc[0]) instead\n",
      "  final_data.loc[final_data[\"Month\"] == month, \"Revenue\"] += float(prepped_df.loc[prepped_df[\"Job Name\"] == job_name, \"Revenue\"])\n",
      "C:\\Users\\kchang\\AppData\\Local\\Temp\\ipykernel_16212\\17105585.py:21: FutureWarning: Calling float on a single element Series is deprecated and will raise a TypeError in the future. Use float(ser.iloc[0]) instead\n",
      "  final_data.loc[final_data[\"Month\"] == month, \"Revenue\"] += float(prepped_df.loc[prepped_df[\"Job Name\"] == job_name, \"Revenue\"])\n",
      "C:\\Users\\kchang\\AppData\\Local\\Temp\\ipykernel_16212\\17105585.py:21: FutureWarning: Calling float on a single element Series is deprecated and will raise a TypeError in the future. Use float(ser.iloc[0]) instead\n",
      "  final_data.loc[final_data[\"Month\"] == month, \"Revenue\"] += float(prepped_df.loc[prepped_df[\"Job Name\"] == job_name, \"Revenue\"])\n",
      "C:\\Users\\kchang\\AppData\\Local\\Temp\\ipykernel_16212\\17105585.py:21: FutureWarning: Calling float on a single element Series is deprecated and will raise a TypeError in the future. Use float(ser.iloc[0]) instead\n",
      "  final_data.loc[final_data[\"Month\"] == month, \"Revenue\"] += float(prepped_df.loc[prepped_df[\"Job Name\"] == job_name, \"Revenue\"])\n",
      "C:\\Users\\kchang\\AppData\\Local\\Temp\\ipykernel_16212\\17105585.py:21: FutureWarning: Calling float on a single element Series is deprecated and will raise a TypeError in the future. Use float(ser.iloc[0]) instead\n",
      "  final_data.loc[final_data[\"Month\"] == month, \"Revenue\"] += float(prepped_df.loc[prepped_df[\"Job Name\"] == job_name, \"Revenue\"])\n",
      "C:\\Users\\kchang\\AppData\\Local\\Temp\\ipykernel_16212\\17105585.py:21: FutureWarning: Calling float on a single element Series is deprecated and will raise a TypeError in the future. Use float(ser.iloc[0]) instead\n",
      "  final_data.loc[final_data[\"Month\"] == month, \"Revenue\"] += float(prepped_df.loc[prepped_df[\"Job Name\"] == job_name, \"Revenue\"])\n",
      "C:\\Users\\kchang\\AppData\\Local\\Temp\\ipykernel_16212\\17105585.py:21: FutureWarning: Calling float on a single element Series is deprecated and will raise a TypeError in the future. Use float(ser.iloc[0]) instead\n",
      "  final_data.loc[final_data[\"Month\"] == month, \"Revenue\"] += float(prepped_df.loc[prepped_df[\"Job Name\"] == job_name, \"Revenue\"])\n",
      "C:\\Users\\kchang\\AppData\\Local\\Temp\\ipykernel_16212\\17105585.py:21: FutureWarning: Calling float on a single element Series is deprecated and will raise a TypeError in the future. Use float(ser.iloc[0]) instead\n",
      "  final_data.loc[final_data[\"Month\"] == month, \"Revenue\"] += float(prepped_df.loc[prepped_df[\"Job Name\"] == job_name, \"Revenue\"])\n",
      "C:\\Users\\kchang\\AppData\\Local\\Temp\\ipykernel_16212\\17105585.py:21: FutureWarning: Calling float on a single element Series is deprecated and will raise a TypeError in the future. Use float(ser.iloc[0]) instead\n",
      "  final_data.loc[final_data[\"Month\"] == month, \"Revenue\"] += float(prepped_df.loc[prepped_df[\"Job Name\"] == job_name, \"Revenue\"])\n",
      "C:\\Users\\kchang\\AppData\\Local\\Temp\\ipykernel_16212\\17105585.py:21: FutureWarning: Calling float on a single element Series is deprecated and will raise a TypeError in the future. Use float(ser.iloc[0]) instead\n",
      "  final_data.loc[final_data[\"Month\"] == month, \"Revenue\"] += float(prepped_df.loc[prepped_df[\"Job Name\"] == job_name, \"Revenue\"])\n",
      "C:\\Users\\kchang\\AppData\\Local\\Temp\\ipykernel_16212\\17105585.py:21: FutureWarning: Calling float on a single element Series is deprecated and will raise a TypeError in the future. Use float(ser.iloc[0]) instead\n",
      "  final_data.loc[final_data[\"Month\"] == month, \"Revenue\"] += float(prepped_df.loc[prepped_df[\"Job Name\"] == job_name, \"Revenue\"])\n",
      "C:\\Users\\kchang\\AppData\\Local\\Temp\\ipykernel_16212\\17105585.py:21: FutureWarning: Calling float on a single element Series is deprecated and will raise a TypeError in the future. Use float(ser.iloc[0]) instead\n",
      "  final_data.loc[final_data[\"Month\"] == month, \"Revenue\"] += float(prepped_df.loc[prepped_df[\"Job Name\"] == job_name, \"Revenue\"])\n",
      "C:\\Users\\kchang\\AppData\\Local\\Temp\\ipykernel_16212\\17105585.py:21: FutureWarning: Calling float on a single element Series is deprecated and will raise a TypeError in the future. Use float(ser.iloc[0]) instead\n",
      "  final_data.loc[final_data[\"Month\"] == month, \"Revenue\"] += float(prepped_df.loc[prepped_df[\"Job Name\"] == job_name, \"Revenue\"])\n",
      "C:\\Users\\kchang\\AppData\\Local\\Temp\\ipykernel_16212\\17105585.py:21: FutureWarning: Calling float on a single element Series is deprecated and will raise a TypeError in the future. Use float(ser.iloc[0]) instead\n",
      "  final_data.loc[final_data[\"Month\"] == month, \"Revenue\"] += float(prepped_df.loc[prepped_df[\"Job Name\"] == job_name, \"Revenue\"])\n",
      "C:\\Users\\kchang\\AppData\\Local\\Temp\\ipykernel_16212\\17105585.py:21: FutureWarning: Calling float on a single element Series is deprecated and will raise a TypeError in the future. Use float(ser.iloc[0]) instead\n",
      "  final_data.loc[final_data[\"Month\"] == month, \"Revenue\"] += float(prepped_df.loc[prepped_df[\"Job Name\"] == job_name, \"Revenue\"])\n",
      "C:\\Users\\kchang\\AppData\\Local\\Temp\\ipykernel_16212\\17105585.py:21: FutureWarning: Calling float on a single element Series is deprecated and will raise a TypeError in the future. Use float(ser.iloc[0]) instead\n",
      "  final_data.loc[final_data[\"Month\"] == month, \"Revenue\"] += float(prepped_df.loc[prepped_df[\"Job Name\"] == job_name, \"Revenue\"])\n",
      "C:\\Users\\kchang\\AppData\\Local\\Temp\\ipykernel_16212\\17105585.py:21: FutureWarning: Calling float on a single element Series is deprecated and will raise a TypeError in the future. Use float(ser.iloc[0]) instead\n",
      "  final_data.loc[final_data[\"Month\"] == month, \"Revenue\"] += float(prepped_df.loc[prepped_df[\"Job Name\"] == job_name, \"Revenue\"])\n",
      "C:\\Users\\kchang\\AppData\\Local\\Temp\\ipykernel_16212\\17105585.py:21: FutureWarning: Calling float on a single element Series is deprecated and will raise a TypeError in the future. Use float(ser.iloc[0]) instead\n",
      "  final_data.loc[final_data[\"Month\"] == month, \"Revenue\"] += float(prepped_df.loc[prepped_df[\"Job Name\"] == job_name, \"Revenue\"])\n",
      "C:\\Users\\kchang\\AppData\\Local\\Temp\\ipykernel_16212\\17105585.py:21: FutureWarning: Calling float on a single element Series is deprecated and will raise a TypeError in the future. Use float(ser.iloc[0]) instead\n",
      "  final_data.loc[final_data[\"Month\"] == month, \"Revenue\"] += float(prepped_df.loc[prepped_df[\"Job Name\"] == job_name, \"Revenue\"])\n",
      "C:\\Users\\kchang\\AppData\\Local\\Temp\\ipykernel_16212\\17105585.py:21: FutureWarning: Calling float on a single element Series is deprecated and will raise a TypeError in the future. Use float(ser.iloc[0]) instead\n",
      "  final_data.loc[final_data[\"Month\"] == month, \"Revenue\"] += float(prepped_df.loc[prepped_df[\"Job Name\"] == job_name, \"Revenue\"])\n",
      "C:\\Users\\kchang\\AppData\\Local\\Temp\\ipykernel_16212\\17105585.py:21: FutureWarning: Calling float on a single element Series is deprecated and will raise a TypeError in the future. Use float(ser.iloc[0]) instead\n",
      "  final_data.loc[final_data[\"Month\"] == month, \"Revenue\"] += float(prepped_df.loc[prepped_df[\"Job Name\"] == job_name, \"Revenue\"])\n",
      "C:\\Users\\kchang\\AppData\\Local\\Temp\\ipykernel_16212\\17105585.py:21: FutureWarning: Calling float on a single element Series is deprecated and will raise a TypeError in the future. Use float(ser.iloc[0]) instead\n",
      "  final_data.loc[final_data[\"Month\"] == month, \"Revenue\"] += float(prepped_df.loc[prepped_df[\"Job Name\"] == job_name, \"Revenue\"])\n",
      "C:\\Users\\kchang\\AppData\\Local\\Temp\\ipykernel_16212\\17105585.py:21: FutureWarning: Calling float on a single element Series is deprecated and will raise a TypeError in the future. Use float(ser.iloc[0]) instead\n",
      "  final_data.loc[final_data[\"Month\"] == month, \"Revenue\"] += float(prepped_df.loc[prepped_df[\"Job Name\"] == job_name, \"Revenue\"])\n",
      "C:\\Users\\kchang\\AppData\\Local\\Temp\\ipykernel_16212\\17105585.py:21: FutureWarning: Calling float on a single element Series is deprecated and will raise a TypeError in the future. Use float(ser.iloc[0]) instead\n",
      "  final_data.loc[final_data[\"Month\"] == month, \"Revenue\"] += float(prepped_df.loc[prepped_df[\"Job Name\"] == job_name, \"Revenue\"])\n",
      "C:\\Users\\kchang\\AppData\\Local\\Temp\\ipykernel_16212\\17105585.py:21: FutureWarning: Calling float on a single element Series is deprecated and will raise a TypeError in the future. Use float(ser.iloc[0]) instead\n",
      "  final_data.loc[final_data[\"Month\"] == month, \"Revenue\"] += float(prepped_df.loc[prepped_df[\"Job Name\"] == job_name, \"Revenue\"])\n",
      "C:\\Users\\kchang\\AppData\\Local\\Temp\\ipykernel_16212\\17105585.py:21: FutureWarning: Calling float on a single element Series is deprecated and will raise a TypeError in the future. Use float(ser.iloc[0]) instead\n",
      "  final_data.loc[final_data[\"Month\"] == month, \"Revenue\"] += float(prepped_df.loc[prepped_df[\"Job Name\"] == job_name, \"Revenue\"])\n",
      "C:\\Users\\kchang\\AppData\\Local\\Temp\\ipykernel_16212\\17105585.py:21: FutureWarning: Calling float on a single element Series is deprecated and will raise a TypeError in the future. Use float(ser.iloc[0]) instead\n",
      "  final_data.loc[final_data[\"Month\"] == month, \"Revenue\"] += float(prepped_df.loc[prepped_df[\"Job Name\"] == job_name, \"Revenue\"])\n"
     ]
    }
   ],
   "source": [
    "import re\n",
    "\n",
    "# Create two new DataFrames, the first \"months_count\" count how many occurrences of each month appears inside the prepped_df.\n",
    "# The second \"final_data\" will add-up the monthly revenue of each job of the same month\n",
    "\n",
    "months = [\"jan\", \"feb\", \"mar\", \"apr\", \"may\", \"jun\", \"jul\", \"aug\", \"sep\", \"oct\", \"nov\", \"dec\"]\n",
    "months_count = pd.DataFrame({\"Month\": months,\n",
    "                             \"Count\": 0})\n",
    "\n",
    "final_data = pd.DataFrame({\"Month\": months,\n",
    "                        \"Revenue\": 0})\n",
    "\n",
    "# The following loop first look at each job name, and update it to remove any occurence of the word \"marketing\", since it adds a count towards \"mar\" for March\n",
    "for job_name in prepped_df[\"Job Name\"]:\n",
    "    updated_name = re.sub(r\"\\bmarketing\\b\", \"\", job_name.lower())\n",
    "\n",
    "    # Now loops over each month, and if there is a match in the updated_name, count will go up by 1, and the corresponding revenue will be added into final_data\n",
    "    for month in months_count[\"Month\"]:\n",
    "        if month in updated_name:\n",
    "            months_count.loc[months_count[\"Month\"] == month, \"Count\"] += 1\n",
    "            final_data.loc[final_data[\"Month\"] == month, \"Revenue\"] += float(prepped_df.loc[prepped_df[\"Job Name\"] == job_name, \"Revenue\"])"
   ]
  },
  {
   "cell_type": "code",
   "execution_count": 5,
   "metadata": {},
   "outputs": [
    {
     "data": {
      "text/html": [
       "<div>\n",
       "<style scoped>\n",
       "    .dataframe tbody tr th:only-of-type {\n",
       "        vertical-align: middle;\n",
       "    }\n",
       "\n",
       "    .dataframe tbody tr th {\n",
       "        vertical-align: top;\n",
       "    }\n",
       "\n",
       "    .dataframe thead th {\n",
       "        text-align: right;\n",
       "    }\n",
       "</style>\n",
       "<table border=\"1\" class=\"dataframe\">\n",
       "  <thead>\n",
       "    <tr style=\"text-align: right;\">\n",
       "      <th></th>\n",
       "      <th>Month</th>\n",
       "      <th>Count</th>\n",
       "    </tr>\n",
       "  </thead>\n",
       "  <tbody>\n",
       "    <tr>\n",
       "      <th>0</th>\n",
       "      <td>2022-01-01</td>\n",
       "      <td>3</td>\n",
       "    </tr>\n",
       "    <tr>\n",
       "      <th>1</th>\n",
       "      <td>2022-02-01</td>\n",
       "      <td>3</td>\n",
       "    </tr>\n",
       "    <tr>\n",
       "      <th>2</th>\n",
       "      <td>2022-03-01</td>\n",
       "      <td>3</td>\n",
       "    </tr>\n",
       "    <tr>\n",
       "      <th>3</th>\n",
       "      <td>2022-04-01</td>\n",
       "      <td>3</td>\n",
       "    </tr>\n",
       "    <tr>\n",
       "      <th>4</th>\n",
       "      <td>2022-05-01</td>\n",
       "      <td>3</td>\n",
       "    </tr>\n",
       "    <tr>\n",
       "      <th>5</th>\n",
       "      <td>2022-06-01</td>\n",
       "      <td>3</td>\n",
       "    </tr>\n",
       "    <tr>\n",
       "      <th>6</th>\n",
       "      <td>2022-07-01</td>\n",
       "      <td>3</td>\n",
       "    </tr>\n",
       "    <tr>\n",
       "      <th>7</th>\n",
       "      <td>2022-08-01</td>\n",
       "      <td>3</td>\n",
       "    </tr>\n",
       "    <tr>\n",
       "      <th>8</th>\n",
       "      <td>2022-09-01</td>\n",
       "      <td>3</td>\n",
       "    </tr>\n",
       "    <tr>\n",
       "      <th>9</th>\n",
       "      <td>2022-10-01</td>\n",
       "      <td>3</td>\n",
       "    </tr>\n",
       "    <tr>\n",
       "      <th>10</th>\n",
       "      <td>2022-11-01</td>\n",
       "      <td>2</td>\n",
       "    </tr>\n",
       "    <tr>\n",
       "      <th>11</th>\n",
       "      <td>2022-12-01</td>\n",
       "      <td>2</td>\n",
       "    </tr>\n",
       "  </tbody>\n",
       "</table>\n",
       "</div>"
      ],
      "text/plain": [
       "        Month  Count\n",
       "0  2022-01-01      3\n",
       "1  2022-02-01      3\n",
       "2  2022-03-01      3\n",
       "3  2022-04-01      3\n",
       "4  2022-05-01      3\n",
       "5  2022-06-01      3\n",
       "6  2022-07-01      3\n",
       "7  2022-08-01      3\n",
       "8  2022-09-01      3\n",
       "9  2022-10-01      3\n",
       "10 2022-11-01      2\n",
       "11 2022-12-01      2"
      ]
     },
     "execution_count": 5,
     "metadata": {},
     "output_type": "execute_result"
    }
   ],
   "source": [
    "months_count[\"Month\"] = months_count[\"Month\"] + \"2022\"\n",
    "months_count[\"Month\"] = pd.to_datetime(months_count[\"Month\"], format=\"%b%Y\")\n",
    "final_data[\"Month\"] = final_data[\"Month\"] + \"2022\"\n",
    "final_data[\"Month\"] = pd.to_datetime(final_data[\"Month\"], format=\"%b%Y\")\n",
    "months_count"
   ]
  },
  {
   "cell_type": "markdown",
   "metadata": {},
   "source": [
    "The months count above shows that November and December have only 2 jobs count instead of 3, the reason was mentioned in the \"Data collection\" section above. The code is working correctly and can be used as the means to alert the user when months count is not as expected."
   ]
  },
  {
   "cell_type": "code",
   "execution_count": 6,
   "metadata": {},
   "outputs": [
    {
     "data": {
      "text/html": [
       "<div>\n",
       "<style scoped>\n",
       "    .dataframe tbody tr th:only-of-type {\n",
       "        vertical-align: middle;\n",
       "    }\n",
       "\n",
       "    .dataframe tbody tr th {\n",
       "        vertical-align: top;\n",
       "    }\n",
       "\n",
       "    .dataframe thead th {\n",
       "        text-align: right;\n",
       "    }\n",
       "</style>\n",
       "<table border=\"1\" class=\"dataframe\">\n",
       "  <thead>\n",
       "    <tr style=\"text-align: right;\">\n",
       "      <th></th>\n",
       "      <th>Revenue</th>\n",
       "    </tr>\n",
       "    <tr>\n",
       "      <th>Month</th>\n",
       "      <th></th>\n",
       "    </tr>\n",
       "  </thead>\n",
       "  <tbody>\n",
       "    <tr>\n",
       "      <th>2022-01-01</th>\n",
       "      <td>56812.19</td>\n",
       "    </tr>\n",
       "    <tr>\n",
       "      <th>2022-02-01</th>\n",
       "      <td>87344.61</td>\n",
       "    </tr>\n",
       "    <tr>\n",
       "      <th>2022-03-01</th>\n",
       "      <td>104465.76</td>\n",
       "    </tr>\n",
       "    <tr>\n",
       "      <th>2022-04-01</th>\n",
       "      <td>60301.24</td>\n",
       "    </tr>\n",
       "    <tr>\n",
       "      <th>2022-05-01</th>\n",
       "      <td>115578.05</td>\n",
       "    </tr>\n",
       "    <tr>\n",
       "      <th>2022-06-01</th>\n",
       "      <td>89235.75</td>\n",
       "    </tr>\n",
       "    <tr>\n",
       "      <th>2022-07-01</th>\n",
       "      <td>73633.74</td>\n",
       "    </tr>\n",
       "    <tr>\n",
       "      <th>2022-08-01</th>\n",
       "      <td>116825.05</td>\n",
       "    </tr>\n",
       "    <tr>\n",
       "      <th>2022-09-01</th>\n",
       "      <td>98208.33</td>\n",
       "    </tr>\n",
       "    <tr>\n",
       "      <th>2022-10-01</th>\n",
       "      <td>108138.54</td>\n",
       "    </tr>\n",
       "    <tr>\n",
       "      <th>2022-11-01</th>\n",
       "      <td>65949.60</td>\n",
       "    </tr>\n",
       "    <tr>\n",
       "      <th>2022-12-01</th>\n",
       "      <td>44716.78</td>\n",
       "    </tr>\n",
       "  </tbody>\n",
       "</table>\n",
       "</div>"
      ],
      "text/plain": [
       "              Revenue\n",
       "Month                \n",
       "2022-01-01   56812.19\n",
       "2022-02-01   87344.61\n",
       "2022-03-01  104465.76\n",
       "2022-04-01   60301.24\n",
       "2022-05-01  115578.05\n",
       "2022-06-01   89235.75\n",
       "2022-07-01   73633.74\n",
       "2022-08-01  116825.05\n",
       "2022-09-01   98208.33\n",
       "2022-10-01  108138.54\n",
       "2022-11-01   65949.60\n",
       "2022-12-01   44716.78"
      ]
     },
     "execution_count": 6,
     "metadata": {},
     "output_type": "execute_result"
    }
   ],
   "source": [
    "final_data.set_index(\"Month\", inplace=True)\n",
    "final_data"
   ]
  },
  {
   "cell_type": "code",
   "execution_count": 7,
   "metadata": {},
   "outputs": [],
   "source": [
    "# Define the horizon and the window size to use this as a time-series prediction\n",
    "HORIZON = 1\n",
    "WINDOW_SIZE = 3"
   ]
  },
  {
   "cell_type": "markdown",
   "metadata": {},
   "source": [
    "## Functions"
   ]
  },
  {
   "cell_type": "code",
   "execution_count": 8,
   "metadata": {},
   "outputs": [],
   "source": [
    "def timesteps_and_revenue(df):\n",
    "  \"\"\"\n",
    "  Return 2 arrays, one for the timesteps, one for the corresponding revenue.\n",
    "  The timesteps is only relevant for graph plotting for visualisation purpose.\n",
    "\n",
    "  Parameters\n",
    "  ----------\n",
    "  df: A DataFrame that has datatime index and a single column for revenue.\n",
    "  \"\"\"\n",
    "  timesteps = df.index.to_numpy()\n",
    "  revenue = df[\"Revenue\"].to_numpy()\n",
    "  return timesteps, revenue"
   ]
  },
  {
   "cell_type": "code",
   "execution_count": 9,
   "metadata": {},
   "outputs": [],
   "source": [
    "def timesteps_split(timesteps, test_size=0.2):\n",
    "  \"\"\"\n",
    "  Split the timesteps into training and testing sets, with customizable test set size.\n",
    "  \n",
    "  Parameters\n",
    "  ----------\n",
    "  timesteps: An array of datetime elements\n",
    "  test_size: A number between 0.0-1.0, specifying the desired test set size, default is 0.2 for 20% of the data as test size\n",
    "  \"\"\"\n",
    "  split_size = int((1-test_size) * len(timesteps))\n",
    "  # Create train data splits (everything before the split)\n",
    "  time_train= timesteps[:split_size]\n",
    "\n",
    "  # Create test data splits (everything after the split)\n",
    "  time_test = timesteps[split_size:]\n",
    "  return time_train, time_test"
   ]
  },
  {
   "cell_type": "code",
   "execution_count": 10,
   "metadata": {},
   "outputs": [],
   "source": [
    "def plot_time_series(timesteps, values, format='-', start=0, end=None, label=None):\n",
    "  \"\"\"\n",
    "  Plots a timesteps (a series of points in time) against values (a series of values across timesteps).\n",
    "  \n",
    "  Parameters\n",
    "  ---------\n",
    "  timesteps : array of timesteps\n",
    "  values : array of values across time\n",
    "  format : style of plot, default \"-\"\n",
    "  start : where to start the plot (setting a value will index from start of timesteps & values)\n",
    "  end : where to end the plot (setting a value will index from end of timesteps & values)\n",
    "  label : label to show on plot of values\n",
    "  \"\"\"\n",
    "  # Plot the series\n",
    "  plt.plot(timesteps[start:end], values[start:end], format, label=label)\n",
    "  plt.xlabel(\"Time\")\n",
    "  plt.ylabel(\"Revenue\")\n",
    "  if label:\n",
    "    plt.legend(fontsize=14) # make label bigger\n",
    "  plt.grid(True)"
   ]
  },
  {
   "cell_type": "code",
   "execution_count": 26,
   "metadata": {},
   "outputs": [],
   "source": [
    "def plot_preds(y_true, y_preds, start=0):\n",
    "  \"\"\"\n",
    "  Combine a few plot_time_series to show the test data & predictions\n",
    "\n",
    "  Parameters\n",
    "  ----------\n",
    "  y_true: the actual revenue\n",
    "  y_preds: the predicted revenue\n",
    "  start: any offset value in case zooming in is required, default=0\n",
    "  \"\"\"\n",
    "  plt.figure(figsize=(10, 7))\n",
    "  plot_time_series(timesteps=time_test[-len(test_windows):],\n",
    "                 values=y_true[:, 0],\n",
    "                 start=start,\n",
    "                 label=\"Actual Revenue\")\n",
    "\n",
    "  plot_time_series(timesteps=time_test[-len(test_windows):],\n",
    "                 values=y_preds,\n",
    "                 start=start,\n",
    "                 label=\"model_preds\")"
   ]
  },
  {
   "cell_type": "code",
   "execution_count": 12,
   "metadata": {},
   "outputs": [],
   "source": [
    "def create_windows(x, window_size=WINDOW_SIZE, horizon=HORIZON):\n",
    "  \"\"\"\n",
    "  Turns a 1D array into a 2D array of sequential windows, the size of each row would be window_size + horizon\n",
    "  \n",
    "  Parameters\n",
    "  ----------\n",
    "  x: a 1D array\n",
    "  window_size: the desired window size, default value is the value of global variable WINDOW_SIZE\n",
    "  horizon: the desired horizon, default value is the value of global variable HORIZON\n",
    "  \"\"\"\n",
    "  # Create a window of size window_size + horizon\n",
    "  window_step = np.expand_dims(np.arange(window_size+horizon), axis=0)\n",
    "\n",
    "  # Create a 2D array of multiple window steps (minus 1 to account for 0 indexing)\n",
    "  window_indexes = window_step + np.expand_dims(np.arange(len(x)-(window_size+horizon-1)), axis=0).T\n",
    "\n",
    "  # Index on the target array (time series) with 2D array of multiple window steps\n",
    "  windowed_array = x[window_indexes]\n",
    "\n",
    "  return windowed_array"
   ]
  },
  {
   "cell_type": "code",
   "execution_count": 13,
   "metadata": {},
   "outputs": [],
   "source": [
    "def create_labels(x, horizon=HORIZON):\n",
    "  \"\"\"\n",
    "  Creates labels for windowed dataset by \n",
    "\n",
    "  Parameters\n",
    "  ----------\n",
    "  x: An array\n",
    "  horizon: the desired horizon, default value is the value of global variable HORIZON\n",
    "  \"\"\"\n",
    "  window = x[:, :-horizon] # get all of the rows, up to the horizon parameter figure\n",
    "  label = x[:, -horizon:] # get all of the rows, everything from the horizon figure and after\n",
    "\n",
    "  return window, label"
   ]
  },
  {
   "cell_type": "code",
   "execution_count": 14,
   "metadata": {},
   "outputs": [],
   "source": [
    "def create_train_test_split(windows, labels, test_size=0.2):\n",
    "  \"\"\"\n",
    "  Splits matching pairs of windows and labels into train and test splits.\n",
    "\n",
    "  Parameters\n",
    "  ----------\n",
    "  windows: the windows (features) array\n",
    "  labels: the labels array\n",
    "  test_size: A number between 0.0-1.0, specifying the desired test set size, default is 0.2 for 20% of the data as test size\n",
    "  \"\"\"\n",
    "  split_size = int(len(windows) * (1-test_size))\n",
    "  train_windows = windows[:split_size]\n",
    "  train_labels = labels[:split_size]\n",
    "  test_windows = windows[split_size:]\n",
    "  test_labels = labels[split_size:]\n",
    "  \n",
    "  return train_windows, test_windows, train_labels, test_labels"
   ]
  },
  {
   "cell_type": "code",
   "execution_count": 15,
   "metadata": {},
   "outputs": [],
   "source": [
    "def preprocess(df):\n",
    "    timesteps, revenue = timesteps_and_revenue(df)\n",
    "    time_train, time_test = timesteps_split(timesteps)\n",
    "    windowed = create_windows(revenue)\n",
    "    windows, labels = create_labels(windowed)\n",
    "    train_windows, test_windows, train_labels, test_labels = create_train_test_split(windows, labels)\n",
    "    return time_test, train_windows, test_windows, train_labels, test_labels"
   ]
  },
  {
   "cell_type": "code",
   "execution_count": 16,
   "metadata": {},
   "outputs": [],
   "source": [
    "# preprocess the data using the preprocess function\n",
    "time_test, train_windows, test_windows, train_labels, test_labels = preprocess(final_data)"
   ]
  },
  {
   "cell_type": "code",
   "execution_count": 21,
   "metadata": {},
   "outputs": [
    {
     "name": "stdout",
     "output_type": "stream",
     "text": [
      "Reloading Tuner from tuner_dir\\hyperparam_tuning\\tuner0.json\n"
     ]
    },
    {
     "name": "stderr",
     "output_type": "stream",
     "text": [
      "c:\\Users\\kchang\\OneDrive\\Coding\\VS_Code\\StandaloneProjects\\RevenuePrediction\\.venv\\Lib\\site-packages\\keras\\src\\saving\\saving_lib.py:415: UserWarning: Skipping variable loading for optimizer 'adam', because it has 2 variables whereas the saved optimizer has 10 variables. \n",
      "  saveable.load_own_variables(weights_store.get(inner_path))\n"
     ]
    },
    {
     "name": "stdout",
     "output_type": "stream",
     "text": [
      "Test loss: 109.8203, Test MAE: 109.8203\n"
     ]
    }
   ],
   "source": [
    "from tensorflow.keras import layers\n",
    "import tensorflow as tf\n",
    "import keras_tuner as kt\n",
    "\n",
    "tf.random.set_seed(42)\n",
    "\n",
    "def build_model(hp):\n",
    "    model = tf.keras.Sequential([\n",
    "        layers.Dense(units=hp.Int('units', min_value=8, max_value=64, step=8), activation=\"relu\"),\n",
    "        layers.Dense(HORIZON, activation=\"linear\")\n",
    "    ], name=\"revenue_model\")\n",
    "\n",
    "    model.compile(loss=\"mae\",\n",
    "                  optimizer=hp.Choice('optimizer', ['Adam', 'RMSprop', 'SGD']),\n",
    "                  metrics=['mae'])\n",
    "\n",
    "    return model\n",
    "\n",
    "tuner = kt.GridSearch(\n",
    "    build_model,\n",
    "    objective='val_loss',\n",
    "    max_trials=12,  # 4 values for units and 3 optimizers\n",
    "    directory='tuner_dir',\n",
    "    project_name='hyperparam_tuning')\n",
    "\n",
    "tuner.search(train_windows, train_labels,\n",
    "             epochs=100,\n",
    "             validation_data=(test_windows, test_labels),\n",
    "             verbose=0)\n",
    "\n",
    "best_model = tuner.get_best_models(num_models=1)[0]\n",
    "\n",
    "# Evaluate the best model on the test set\n",
    "test_loss, test_mae = best_model.evaluate(test_windows, test_labels, verbose=0)\n",
    "print(f\"Test loss: {test_loss:.4f}, Test MAE: {test_mae:.4f}\")"
   ]
  },
  {
   "cell_type": "code",
   "execution_count": 27,
   "metadata": {},
   "outputs": [
    {
     "name": "stdout",
     "output_type": "stream",
     "text": [
      "\u001b[1m1/1\u001b[0m \u001b[32m━━━━━━━━━━━━━━━━━━━━\u001b[0m\u001b[37m\u001b[0m \u001b[1m0s\u001b[0m 47ms/step\n"
     ]
    },
    {
     "data": {
      "image/png": "[encoded data removed]",
      "text/plain": [
       "<Figure size 1000x700 with 1 Axes>"
      ]
     },
     "metadata": {},
     "output_type": "display_data"
    }
   ],
   "source": [
    "preds = best_model.predict(test_windows)\n",
    "plot_preds(test_labels, preds)"
   ]
  },
  {
   "cell_type": "code",
   "execution_count": null,
   "metadata": {},
   "outputs": [],
   "source": []
  }
 ],
 "metadata": {
  "kernelspec": {
   "display_name": "Python 3",
   "language": "python",
   "name": "python3"
  },
  "language_info": {
   "codemirror_mode": {
    "name": "ipython",
    "version": 3
   },
   "file_extension": ".py",
   "mimetype": "text/x-python",
   "name": "python",
   "nbconvert_exporter": "python",
   "pygments_lexer": "ipython3",
   "version": "3.11.4"
  }
 },
 "nbformat": 4,
 "nbformat_minor": 2
}
